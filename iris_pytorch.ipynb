{
  "nbformat": 4,
  "nbformat_minor": 0,
  "metadata": {
    "colab": {
      "name": "iris_pytorch.ipynb",
      "provenance": [],
      "authorship_tag": "ABX9TyPszFhOCEUAo7uvfuZ8YkM7",
      "include_colab_link": true
    },
    "kernelspec": {
      "name": "python3",
      "display_name": "Python 3"
    },
    "language_info": {
      "name": "python"
    }
  },
  "cells": [
    {
      "cell_type": "markdown",
      "metadata": {
        "id": "view-in-github",
        "colab_type": "text"
      },
      "source": [
        "<a href=\"https://colab.research.google.com/github/Nahid180/ColabNoteBook/blob/main/iris_pytorch.ipynb\" target=\"_parent\"><img src=\"https://colab.research.google.com/assets/colab-badge.svg\" alt=\"Open In Colab\"/></a>"
      ]
    },
    {
      "cell_type": "code",
      "execution_count": null,
      "metadata": {
        "id": "k5GikksG14HR"
      },
      "outputs": [],
      "source": [
        "from sklearn.datasets import load_iris\n",
        "from sklearn.model_selection import train_test_split\n",
        "import torch\n",
        "from torch import nn"
      ]
    },
    {
      "cell_type": "code",
      "source": [
        "data = load_iris()\n",
        "device='cuda' if torch.cuda.is_available() else 'cpu'"
      ],
      "metadata": {
        "id": "MB-YvhAG17Zx"
      },
      "execution_count": null,
      "outputs": []
    },
    {
      "cell_type": "code",
      "source": [
        "data.target_names"
      ],
      "metadata": {
        "colab": {
          "base_uri": "https://localhost:8080/"
        },
        "id": "ZmXPuBBf9msC",
        "outputId": "2be55ce9-05aa-42c9-eb24-8d9c6b52695f"
      },
      "execution_count": null,
      "outputs": [
        {
          "output_type": "execute_result",
          "data": {
            "text/plain": [
              "array(['setosa', 'versicolor', 'virginica'], dtype='<U10')"
            ]
          },
          "metadata": {},
          "execution_count": 66
        }
      ]
    },
    {
      "cell_type": "code",
      "source": [
        "X=data['data']\n",
        "Y=data['target']"
      ],
      "metadata": {
        "id": "-1AE6JCT17Xo"
      },
      "execution_count": null,
      "outputs": []
    },
    {
      "cell_type": "code",
      "source": [
        "X_train, X_test, Y_train, Y_test = train_test_split(X, Y, test_size=0.2, random_state=42)"
      ],
      "metadata": {
        "id": "jtzZZmlH17Pg"
      },
      "execution_count": null,
      "outputs": []
    },
    {
      "cell_type": "code",
      "source": [
        "x_train=torch.from_numpy(X_train).type(torch.float).to(device)\n",
        "x_test=torch.from_numpy(X_test).type(torch.float).to(device)\n",
        "y_train=torch.from_numpy(Y_train).type(torch.long).to(device)\n",
        "y_test=torch.from_numpy(Y_test).type(torch.long).to(device)"
      ],
      "metadata": {
        "id": "iY-mpooR17Mr"
      },
      "execution_count": null,
      "outputs": []
    },
    {
      "cell_type": "code",
      "source": [
        "class SapialLength(nn.Module):\n",
        "  def __init__(self):\n",
        "    super().__init__()\n",
        "    self.layer1=nn.Linear(in_features=4, out_features=10)\n",
        "    self.layer2=nn.Linear(in_features=10, out_features=10)\n",
        "    self.layer3=nn.Linear(in_features=10, out_features=10)\n",
        "    self.layer4=nn.Linear(in_features=10, out_features=3)\n",
        "    self.relu=nn.ReLU()\n",
        "\n",
        "  def forward(self, x:torch.tensor) -> torch.tensor:\n",
        "    return self.layer4(self.relu(self.layer3(self.relu(self.layer2(self.relu(self.layer1(x)))))))"
      ],
      "metadata": {
        "id": "4NeCUWZi17KS"
      },
      "execution_count": null,
      "outputs": []
    },
    {
      "cell_type": "code",
      "source": [
        "model=SapialLength().to(device)"
      ],
      "metadata": {
        "id": "RIHRqobX17H7"
      },
      "execution_count": null,
      "outputs": []
    },
    {
      "cell_type": "code",
      "source": [
        "activation=nn.Softmax(dim=1)\n",
        "loss_func=nn.CrossEntropyLoss()\n",
        "optimizer=torch.optim.SGD(params=model.parameters(), lr=0.01)"
      ],
      "metadata": {
        "id": "MNtFu93t17Fa"
      },
      "execution_count": null,
      "outputs": []
    },
    {
      "cell_type": "code",
      "source": [
        "torch.manual_seed(42)\n",
        "torch.cuda.manual_seed(42)\n",
        "epochs=1000\n",
        "\n",
        "for epoch in range(epochs):\n",
        "  model.train()\n",
        "\n",
        "  y_logits=model(x_train)\n",
        "  y_preds=activation(y_logits).argmax(dim=1)\n",
        "  train_loss=loss_func(y_logits, y_train)\n",
        "\n",
        "  optimizer.zero_grad()\n",
        "  train_loss.backward()\n",
        "  optimizer.step()\n",
        "\n",
        "  with torch.inference_mode():\n",
        "    test_logits=model(x_test)\n",
        "    test_preds=activation(test_logits).argmax(dim=1)\n",
        "    test_loss=loss_func(test_logits, y_test)\n",
        "\n",
        "  if epoch%100==0:\n",
        "    print(f\"Epochs: {epoch} | Train Loss: {train_loss} | Test Loss: {test_loss}\")"
      ],
      "metadata": {
        "colab": {
          "base_uri": "https://localhost:8080/"
        },
        "id": "LsHfw2k317AX",
        "outputId": "dd7c0e13-82dd-4cf4-ce19-8a579a0abef0"
      },
      "execution_count": null,
      "outputs": [
        {
          "output_type": "stream",
          "name": "stdout",
          "text": [
            "Epochs: 0 | Train Loss: 0.15968945622444153 | Test Loss: 0.20312093198299408\n",
            "Epochs: 100 | Train Loss: 0.12676362693309784 | Test Loss: 0.17462778091430664\n",
            "Epochs: 200 | Train Loss: 0.10749296844005585 | Test Loss: 0.15588323771953583\n",
            "Epochs: 300 | Train Loss: 0.09575282037258148 | Test Loss: 0.1426081359386444\n",
            "Epochs: 400 | Train Loss: 0.08814988285303116 | Test Loss: 0.13259002566337585\n",
            "Epochs: 500 | Train Loss: 0.08292206376791 | Test Loss: 0.12450161576271057\n",
            "Epochs: 600 | Train Loss: 0.07913735508918762 | Test Loss: 0.11766822636127472\n",
            "Epochs: 700 | Train Loss: 0.07627149671316147 | Test Loss: 0.11177079379558563\n",
            "Epochs: 800 | Train Loss: 0.07401586323976517 | Test Loss: 0.10650841891765594\n",
            "Epochs: 900 | Train Loss: 0.07218505442142487 | Test Loss: 0.10174866020679474\n"
          ]
        }
      ]
    },
    {
      "cell_type": "code",
      "source": [
        "with torch.inference_mode():\n",
        "  prediction=model(x_test)\n",
        "\n",
        "data.target_names[activation(prediction).argmax(dim=1)[20]]"
      ],
      "metadata": {
        "colab": {
          "base_uri": "https://localhost:8080/",
          "height": 35
        },
        "id": "7NEKUMac65e8",
        "outputId": "eb720cf8-c290-43f2-9dae-fa23394d2693"
      },
      "execution_count": null,
      "outputs": [
        {
          "output_type": "execute_result",
          "data": {
            "text/plain": [
              "'setosa'"
            ],
            "application/vnd.google.colaboratory.intrinsic+json": {
              "type": "string"
            }
          },
          "metadata": {},
          "execution_count": 75
        }
      ]
    },
    {
      "cell_type": "code",
      "source": [
        "data.target_names[y_test[100]]"
      ],
      "metadata": {
        "colab": {
          "base_uri": "https://localhost:8080/",
          "height": 35
        },
        "id": "9VLJkHNl65bi",
        "outputId": "638f40b3-74d3-4d40-cccf-ea5ef5e98644"
      },
      "execution_count": null,
      "outputs": [
        {
          "output_type": "execute_result",
          "data": {
            "text/plain": [
              "'virginica'"
            ],
            "application/vnd.google.colaboratory.intrinsic+json": {
              "type": "string"
            }
          },
          "metadata": {},
          "execution_count": 73
        }
      ]
    },
    {
      "cell_type": "code",
      "source": [],
      "metadata": {
        "id": "V4nFqFAI65ZV"
      },
      "execution_count": null,
      "outputs": []
    },
    {
      "cell_type": "code",
      "source": [],
      "metadata": {
        "id": "wF-hZWF565XD"
      },
      "execution_count": null,
      "outputs": []
    },
    {
      "cell_type": "code",
      "source": [],
      "metadata": {
        "id": "VxJ2xMr265Ue"
      },
      "execution_count": null,
      "outputs": []
    },
    {
      "cell_type": "code",
      "source": [],
      "metadata": {
        "id": "eOinPWYw65SH"
      },
      "execution_count": null,
      "outputs": []
    },
    {
      "cell_type": "code",
      "source": [],
      "metadata": {
        "id": "BiPklNLI65Po"
      },
      "execution_count": null,
      "outputs": []
    }
  ]
}