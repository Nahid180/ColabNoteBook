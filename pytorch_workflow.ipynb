{
  "nbformat": 4,
  "nbformat_minor": 0,
  "metadata": {
    "colab": {
      "name": "pytorch_workflow.ipynb",
      "provenance": [],
      "collapsed_sections": [],
      "authorship_tag": "ABX9TyMEtIe1liSAQj+prVsyKVFB",
      "include_colab_link": true
    },
    "kernelspec": {
      "name": "python3",
      "display_name": "Python 3"
    },
    "language_info": {
      "name": "python"
    },
    "gpuClass": "standard"
  },
  "cells": [
    {
      "cell_type": "markdown",
      "metadata": {
        "id": "view-in-github",
        "colab_type": "text"
      },
      "source": [
        "<a href=\"https://colab.research.google.com/github/Nahid180/ColabNoteBook/blob/main/pytorch_workflow.ipynb\" target=\"_parent\"><img src=\"https://colab.research.google.com/assets/colab-badge.svg\" alt=\"Open In Colab\"/></a>"
      ]
    },
    {
      "cell_type": "code",
      "execution_count": null,
      "metadata": {
        "id": "K8YdvwwE-hUE"
      },
      "outputs": [],
      "source": [
        "import torch\n",
        "from torch import nn\n",
        "import matplotlib.pyplot as plt"
      ]
    },
    {
      "cell_type": "code",
      "source": [
        "weight=0.7\n",
        "bias=0.3\n",
        "\n",
        "start=0\n",
        "step=0.02\n",
        "end=1\n",
        "\n",
        "X=torch.arange(start, end, step).unsqueeze(1)\n",
        "Y=weight*X + bias"
      ],
      "metadata": {
        "id": "rt8UgulR-nZH"
      },
      "execution_count": null,
      "outputs": []
    },
    {
      "cell_type": "code",
      "source": [
        "plt.plot(X, Y)"
      ],
      "metadata": {
        "colab": {
          "base_uri": "https://localhost:8080/",
          "height": 282
        },
        "id": "7YO_tcoX-nW-",
        "outputId": "e6f3213c-5727-4846-ecfb-4a54ec411df5"
      },
      "execution_count": null,
      "outputs": [
        {
          "output_type": "execute_result",
          "data": {
            "text/plain": [
              "[<matplotlib.lines.Line2D at 0x7fb3cb051510>]"
            ]
          },
          "metadata": {},
          "execution_count": 3
        },
        {
          "output_type": "display_data",
          "data": {
            "text/plain": [
              "<Figure size 432x288 with 1 Axes>"
            ],
            "image/png": "[encoded data removed]"
          },
          "metadata": {
            "needs_background": "light"
          }
        }
      ]
    },
    {
      "cell_type": "code",
      "source": [
        "data_count= int(len(X)*0.8)\n",
        "X_train, Y_train = X[: data_count] , Y[: data_count] \n",
        "X_test, Y_test = X[len(X_train):] , Y[len(Y_train):] "
      ],
      "metadata": {
        "id": "3a5JAhQi-nT3"
      },
      "execution_count": null,
      "outputs": []
    },
    {
      "cell_type": "code",
      "source": [
        "def plot_predictions(train_data=X_train, \n",
        "                     train_labels=Y_train, \n",
        "                     test_data=X_test, \n",
        "                     test_labels=Y_test, \n",
        "                     predictions=None):\n",
        "  \"\"\"\n",
        "  Plots training data, test data and compares predictions.\n",
        "  \"\"\"\n",
        "  plt.figure(figsize=(10, 7))\n",
        "\n",
        "  # Plot training data in blue\n",
        "  plt.scatter(train_data, train_labels, c=\"b\", s=4, label=\"Training data\")\n",
        "  \n",
        "  # Plot test data in green\n",
        "  plt.scatter(test_data, test_labels, c=\"g\", s=4, label=\"Testing data\")\n",
        "\n",
        "  if predictions is not None:\n",
        "    # Plot the predictions in red (predictions were made on the test data)\n",
        "    plt.scatter(test_data, predictions, c=\"r\", s=4, label=\"Predictions\")\n",
        "\n",
        "  # Show the legend\n",
        "  plt.legend(prop={\"size\": 14});"
      ],
      "metadata": {
        "id": "79QRMgZhHo2G"
      },
      "execution_count": null,
      "outputs": []
    },
    {
      "cell_type": "code",
      "source": [
        "len(X_test)"
      ],
      "metadata": {
        "colab": {
          "base_uri": "https://localhost:8080/"
        },
        "id": "N9oet1WL-nRT",
        "outputId": "9c1cda79-5d8a-49a2-a470-d6fb8da2df02"
      },
      "execution_count": null,
      "outputs": [
        {
          "output_type": "execute_result",
          "data": {
            "text/plain": [
              "10"
            ]
          },
          "metadata": {},
          "execution_count": 6
        }
      ]
    },
    {
      "cell_type": "code",
      "source": [
        "class LinearModel(nn.Module):\n",
        "  def __init__(self):\n",
        "    super().__init__()\n",
        "    self.weights=nn.Parameter(torch.randn(1 , requires_grad=True, dtype=torch.float32))\n",
        "    self.bias=nn.Parameter(torch.randn(1 , requires_grad=True, dtype=torch.float32))\n",
        "\n",
        "  def forward(self, x: torch.Tensor) -> torch.Tensor:\n",
        "    return self.weights*x + self.bias"
      ],
      "metadata": {
        "id": "ip4mUWry-nO_"
      },
      "execution_count": null,
      "outputs": []
    },
    {
      "cell_type": "code",
      "source": [
        "torch.manual_seed(42)\n",
        "\n",
        "model_0=LinearModel()\n",
        "list(model_0.parameters())"
      ],
      "metadata": {
        "id": "bT5D_I3P-nMy",
        "colab": {
          "base_uri": "https://localhost:8080/"
        },
        "outputId": "16732fdf-99d7-4e2e-f8e0-f46aa383eda3"
      },
      "execution_count": null,
      "outputs": [
        {
          "output_type": "execute_result",
          "data": {
            "text/plain": [
              "[Parameter containing:\n",
              " tensor([0.3367], requires_grad=True), Parameter containing:\n",
              " tensor([0.1288], requires_grad=True)]"
            ]
          },
          "metadata": {},
          "execution_count": 8
        }
      ]
    },
    {
      "cell_type": "code",
      "source": [
        "with torch.inference_mode():\n",
        "  y_preds=model_0(X_test)\n",
        "y_preds"
      ],
      "metadata": {
        "colab": {
          "base_uri": "https://localhost:8080/"
        },
        "id": "M7vfHax-5h36",
        "outputId": "c2c5f706-1752-41a0-ee75-e957f6658f36"
      },
      "execution_count": null,
      "outputs": [
        {
          "output_type": "execute_result",
          "data": {
            "text/plain": [
              "tensor([[0.3982],\n",
              "        [0.4049],\n",
              "        [0.4116],\n",
              "        [0.4184],\n",
              "        [0.4251],\n",
              "        [0.4318],\n",
              "        [0.4386],\n",
              "        [0.4453],\n",
              "        [0.4520],\n",
              "        [0.4588]])"
            ]
          },
          "metadata": {},
          "execution_count": 9
        }
      ]
    },
    {
      "cell_type": "code",
      "source": [
        "plot_predictions(predictions=y_preds)"
      ],
      "metadata": {
        "colab": {
          "base_uri": "https://localhost:8080/",
          "height": 428
        },
        "id": "d6aFkiMaw5zl",
        "outputId": "821df7a8-8f8d-4968-9935-848e85d40b10"
      },
      "execution_count": null,
      "outputs": [
        {
          "output_type": "display_data",
          "data": {
            "text/plain": [
              "<Figure size 720x504 with 1 Axes>"
            ],
            "image/png": "[encoded data removed]"
          },
          "metadata": {
            "needs_background": "light"
          }
        }
      ]
    },
    {
      "cell_type": "code",
      "source": [
        "Y_test"
      ],
      "metadata": {
        "colab": {
          "base_uri": "https://localhost:8080/"
        },
        "id": "OYpyY8Zi5h0t",
        "outputId": "3989acc4-1696-4de4-e312-f063d1ad6c24"
      },
      "execution_count": null,
      "outputs": [
        {
          "output_type": "execute_result",
          "data": {
            "text/plain": [
              "tensor([[0.8600],\n",
              "        [0.8740],\n",
              "        [0.8880],\n",
              "        [0.9020],\n",
              "        [0.9160],\n",
              "        [0.9300],\n",
              "        [0.9440],\n",
              "        [0.9580],\n",
              "        [0.9720],\n",
              "        [0.9860]])"
            ]
          },
          "metadata": {},
          "execution_count": 11
        }
      ]
    },
    {
      "cell_type": "code",
      "source": [
        "loss_function=nn.L1Loss()\n",
        "optimizer=torch.optim.Adam(params=model_0.parameters(), lr=0.01)"
      ],
      "metadata": {
        "id": "M1_dndFy5htv"
      },
      "execution_count": null,
      "outputs": []
    },
    {
      "cell_type": "code",
      "source": [
        "epochs=100\n",
        "\n",
        "for epoch in range(epochs):\n",
        "  model_0.train()\n",
        "\n",
        "  y_pred= model_0(X_train)\n",
        "\n",
        "  loss=loss_function(y_pred, Y_train)\n",
        "\n",
        "  optimizer.zero_grad()\n",
        "\n",
        "  loss.backward()\n",
        "\n",
        "  optimizer.step()\n",
        "\n",
        "  model_0.eval()\n",
        "\n",
        "\n",
        "  with torch.inference_mode():\n",
        "    test_pred=model_0(X_test)\n",
        "\n",
        "    test_loss=loss_function(test_pred, Y_test)\n",
        "\n",
        "    print(f\"Epoch: {epoch} | Test_loss: {test_loss} | Loss: {loss}\")\n",
        "\n",
        "  "
      ],
      "metadata": {
        "id": "v0ANy0ZXHpEC",
        "colab": {
          "base_uri": "https://localhost:8080/"
        },
        "outputId": "176a8c67-e783-4a3f-c6a2-deed312189c1"
      },
      "execution_count": null,
      "outputs": [
        {
          "output_type": "stream",
          "name": "stdout",
          "text": [
            "Epoch: 0 | Test_loss: 0.47563618421554565 | Loss: 0.31288138031959534\n",
            "Epoch: 1 | Test_loss: 0.45673617720603943 | Loss: 0.29898133873939514\n",
            "Epoch: 2 | Test_loss: 0.4378361701965332 | Loss: 0.28508132696151733\n",
            "Epoch: 3 | Test_loss: 0.418936163187027 | Loss: 0.2711813449859619\n",
            "Epoch: 4 | Test_loss: 0.40003615617752075 | Loss: 0.2572813332080841\n",
            "Epoch: 5 | Test_loss: 0.3811361789703369 | Loss: 0.2433813512325287\n",
            "Epoch: 6 | Test_loss: 0.3622361719608307 | Loss: 0.22948133945465088\n",
            "Epoch: 7 | Test_loss: 0.34333616495132446 | Loss: 0.21558134257793427\n",
            "Epoch: 8 | Test_loss: 0.324436217546463 | Loss: 0.20168134570121765\n",
            "Epoch: 9 | Test_loss: 0.3055362403392792 | Loss: 0.18778134882450104\n",
            "Epoch: 10 | Test_loss: 0.2866361737251282 | Loss: 0.17388132214546204\n",
            "Epoch: 11 | Test_loss: 0.2677362263202667 | Loss: 0.15998134016990662\n",
            "Epoch: 12 | Test_loss: 0.2488362044095993 | Loss: 0.1460813283920288\n",
            "Epoch: 13 | Test_loss: 0.22993624210357666 | Loss: 0.1321813315153122\n",
            "Epoch: 14 | Test_loss: 0.21103624999523163 | Loss: 0.11828134208917618\n",
            "Epoch: 15 | Test_loss: 0.1921362578868866 | Loss: 0.10438136011362076\n",
            "Epoch: 16 | Test_loss: 0.17323628067970276 | Loss: 0.09048136323690414\n",
            "Epoch: 17 | Test_loss: 0.15433628857135773 | Loss: 0.07658137381076813\n",
            "Epoch: 18 | Test_loss: 0.13554081320762634 | Loss: 0.06345288455486298\n",
            "Epoch: 19 | Test_loss: 0.11696698516607285 | Loss: 0.051896534860134125\n",
            "Epoch: 20 | Test_loss: 0.0987466350197792 | Loss: 0.042198795825242996\n",
            "Epoch: 21 | Test_loss: 0.08109892159700394 | Loss: 0.03463803231716156\n",
            "Epoch: 22 | Test_loss: 0.06428197026252747 | Loss: 0.02947370707988739\n",
            "Epoch: 23 | Test_loss: 0.04859854653477669 | Loss: 0.026887917891144753\n",
            "Epoch: 24 | Test_loss: 0.03452695533633232 | Loss: 0.026886994019150734\n",
            "Epoch: 25 | Test_loss: 0.0224767979234457 | Loss: 0.029275041073560715\n",
            "Epoch: 26 | Test_loss: 0.013064617291092873 | Loss: 0.03341194987297058\n",
            "Epoch: 27 | Test_loss: 0.007168203592300415 | Loss: 0.03821286931633949\n",
            "Epoch: 28 | Test_loss: 0.0053053200244903564 | Loss: 0.042151737958192825\n",
            "Epoch: 29 | Test_loss: 0.0049693286418914795 | Loss: 0.04409855231642723\n",
            "Epoch: 30 | Test_loss: 0.005456471350044012 | Loss: 0.044207725673913956\n",
            "Epoch: 31 | Test_loss: 0.00752446660771966 | Loss: 0.04269247502088547\n",
            "Epoch: 32 | Test_loss: 0.01249799132347107 | Loss: 0.03973929211497307\n",
            "Epoch: 33 | Test_loss: 0.0190095417201519 | Loss: 0.03560928255319595\n",
            "Epoch: 34 | Test_loss: 0.026280825957655907 | Loss: 0.03138422966003418\n",
            "Epoch: 35 | Test_loss: 0.03384159132838249 | Loss: 0.027755435556173325\n",
            "Epoch: 36 | Test_loss: 0.041276805102825165 | Loss: 0.025042256340384483\n",
            "Epoch: 37 | Test_loss: 0.04821823164820671 | Loss: 0.0233253575861454\n",
            "Epoch: 38 | Test_loss: 0.05434228852391243 | Loss: 0.022502493113279343\n",
            "Epoch: 39 | Test_loss: 0.0594845786690712 | Loss: 0.02235237881541252\n",
            "Epoch: 40 | Test_loss: 0.0635034516453743 | Loss: 0.02264046110212803\n",
            "Epoch: 41 | Test_loss: 0.0662798210978508 | Loss: 0.023137930780649185\n",
            "Epoch: 42 | Test_loss: 0.06781993061304092 | Loss: 0.023599281907081604\n",
            "Epoch: 43 | Test_loss: 0.06803222745656967 | Loss: 0.023901542648673058\n",
            "Epoch: 44 | Test_loss: 0.06703933328390121 | Loss: 0.023897863924503326\n",
            "Epoch: 45 | Test_loss: 0.0648546889424324 | Loss: 0.023516865447163582\n",
            "Epoch: 46 | Test_loss: 0.06158912181854248 | Loss: 0.0227504950016737\n",
            "Epoch: 47 | Test_loss: 0.05743994191288948 | Loss: 0.0216313935816288\n",
            "Epoch: 48 | Test_loss: 0.052487701177597046 | Loss: 0.020238667726516724\n",
            "Epoch: 49 | Test_loss: 0.046905528753995895 | Loss: 0.01867630146443844\n",
            "Epoch: 50 | Test_loss: 0.0409594364464283 | Loss: 0.017085567116737366\n",
            "Epoch: 51 | Test_loss: 0.03490305691957474 | Loss: 0.015601824037730694\n",
            "Epoch: 52 | Test_loss: 0.02898084558546543 | Loss: 0.014375990256667137\n",
            "Epoch: 53 | Test_loss: 0.02342996560037136 | Loss: 0.013488022610545158\n",
            "Epoch: 54 | Test_loss: 0.018620317801833153 | Loss: 0.012948697432875633\n",
            "Epoch: 55 | Test_loss: 0.014773416332900524 | Loss: 0.012695076875388622\n",
            "Epoch: 56 | Test_loss: 0.01210592407733202 | Loss: 0.01251781266182661\n",
            "Epoch: 57 | Test_loss: 0.010827988386154175 | Loss: 0.012163553386926651\n",
            "Epoch: 58 | Test_loss: 0.010811490006744862 | Loss: 0.011382108554244041\n",
            "Epoch: 59 | Test_loss: 0.011780369095504284 | Loss: 0.010153822600841522\n",
            "Epoch: 60 | Test_loss: 0.013333290815353394 | Loss: 0.008707202039659023\n",
            "Epoch: 61 | Test_loss: 0.014969688840210438 | Loss: 0.007387444376945496\n",
            "Epoch: 62 | Test_loss: 0.016120975837111473 | Loss: 0.006475027650594711\n",
            "Epoch: 63 | Test_loss: 0.01631304621696472 | Loss: 0.006001091096550226\n",
            "Epoch: 64 | Test_loss: 0.015161979012191296 | Loss: 0.00574516411870718\n",
            "Epoch: 65 | Test_loss: 0.012577521614730358 | Loss: 0.005334009882062674\n",
            "Epoch: 66 | Test_loss: 0.008594649843871593 | Loss: 0.004457695875316858\n",
            "Epoch: 67 | Test_loss: 0.0034539937041699886 | Loss: 0.003015653695911169\n",
            "Epoch: 68 | Test_loss: 0.0015299022197723389 | Loss: 0.0015048310160636902\n",
            "Epoch: 69 | Test_loss: 0.003344237804412842 | Loss: 0.0023962773848325014\n",
            "Epoch: 70 | Test_loss: 0.0023451982997357845 | Loss: 0.0023071200121194124\n",
            "Epoch: 71 | Test_loss: 0.0004529774305410683 | Loss: 0.0008542820578441024\n",
            "Epoch: 72 | Test_loss: 0.0013808428775519133 | Loss: 0.002152859466150403\n",
            "Epoch: 73 | Test_loss: 0.004107379820197821 | Loss: 0.002405729843303561\n",
            "Epoch: 74 | Test_loss: 0.00667151203379035 | Loss: 0.0021790252067148685\n",
            "Epoch: 75 | Test_loss: 0.008124535903334618 | Loss: 0.0025185919366776943\n",
            "Epoch: 76 | Test_loss: 0.008203881792724133 | Loss: 0.002889691386371851\n",
            "Epoch: 77 | Test_loss: 0.007042002864181995 | Loss: 0.0029181726276874542\n",
            "Epoch: 78 | Test_loss: 0.0051250518299639225 | Loss: 0.0026330403052270412\n",
            "Epoch: 79 | Test_loss: 0.0031999051570892334 | Loss: 0.002332974225282669\n",
            "Epoch: 80 | Test_loss: 0.002025896217674017 | Loss: 0.0022460916079580784\n",
            "Epoch: 81 | Test_loss: 0.0021982728503644466 | Loss: 0.0021369592286646366\n",
            "Epoch: 82 | Test_loss: 0.0029236613772809505 | Loss: 0.0015557773876935244\n",
            "Epoch: 83 | Test_loss: 0.0026953339111059904 | Loss: 0.0011025347048416734\n",
            "Epoch: 84 | Test_loss: 0.00045668482198379934 | Loss: 0.0009951151441782713\n",
            "Epoch: 85 | Test_loss: 0.003169280244037509 | Loss: 0.00016049369878601283\n",
            "Epoch: 86 | Test_loss: 0.0036905468441545963 | Loss: 0.0016402446199208498\n",
            "Epoch: 87 | Test_loss: 0.002227216958999634 | Loss: 0.001342684030532837\n",
            "Epoch: 88 | Test_loss: 0.0010107636917382479 | Loss: 0.001211501657962799\n",
            "Epoch: 89 | Test_loss: 0.0018866360187530518 | Loss: 0.0019661621190607548\n",
            "Epoch: 90 | Test_loss: 0.0037562549114227295 | Loss: 0.001826292253099382\n",
            "Epoch: 91 | Test_loss: 0.005105954594910145 | Loss: 0.0016340032452717423\n",
            "Epoch: 92 | Test_loss: 0.0050490498542785645 | Loss: 0.0018155999714508653\n",
            "Epoch: 93 | Test_loss: 0.0036014853976666927 | Loss: 0.0017738721799105406\n",
            "Epoch: 94 | Test_loss: 0.0014004409313201904 | Loss: 0.0013337678974494338\n",
            "Epoch: 95 | Test_loss: 0.00017787217802833766 | Loss: 0.001053008483722806\n",
            "Epoch: 96 | Test_loss: 0.0018347203731536865 | Loss: 0.0010550052393227816\n",
            "Epoch: 97 | Test_loss: 0.0006439387798309326 | Loss: 0.000797154032625258\n",
            "Epoch: 98 | Test_loss: 0.003166842507198453 | Loss: 0.0004501797375269234\n",
            "Epoch: 99 | Test_loss: 0.003851598594337702 | Loss: 0.0019264749716967344\n"
          ]
        }
      ]
    },
    {
      "cell_type": "code",
      "source": [
        "model_0.state_dict()"
      ],
      "metadata": {
        "colab": {
          "base_uri": "https://localhost:8080/"
        },
        "id": "DuEc29nmMrv5",
        "outputId": "cef1be09-7952-41eb-9a47-edc4a6d45255"
      },
      "execution_count": null,
      "outputs": [
        {
          "output_type": "execute_result",
          "data": {
            "text/plain": [
              "OrderedDict([('weights', tensor([0.7037])), ('bias', tensor([0.3006]))])"
            ]
          },
          "metadata": {},
          "execution_count": 14
        }
      ]
    },
    {
      "cell_type": "code",
      "source": [
        "with torch.inference_mode():\n",
        "  y_pred_new=model_0(X_test)"
      ],
      "metadata": {
        "id": "2LS9psPuHpBh"
      },
      "execution_count": null,
      "outputs": []
    },
    {
      "cell_type": "code",
      "source": [
        "y_pred_new"
      ],
      "metadata": {
        "id": "cZ3MVLwNHo_I",
        "colab": {
          "base_uri": "https://localhost:8080/"
        },
        "outputId": "a65d7444-9f41-4015-cef7-b28eacfc35e1"
      },
      "execution_count": null,
      "outputs": [
        {
          "output_type": "execute_result",
          "data": {
            "text/plain": [
              "tensor([[0.8635],\n",
              "        [0.8776],\n",
              "        [0.8917],\n",
              "        [0.9057],\n",
              "        [0.9198],\n",
              "        [0.9339],\n",
              "        [0.9480],\n",
              "        [0.9620],\n",
              "        [0.9761],\n",
              "        [0.9902]])"
            ]
          },
          "metadata": {},
          "execution_count": 16
        }
      ]
    },
    {
      "cell_type": "code",
      "source": [
        "Y_test"
      ],
      "metadata": {
        "id": "Cy-jIsoqHo8k",
        "colab": {
          "base_uri": "https://localhost:8080/"
        },
        "outputId": "53d351f8-e152-4599-ea49-d629fea4c20b"
      },
      "execution_count": null,
      "outputs": [
        {
          "output_type": "execute_result",
          "data": {
            "text/plain": [
              "tensor([[0.8600],\n",
              "        [0.8740],\n",
              "        [0.8880],\n",
              "        [0.9020],\n",
              "        [0.9160],\n",
              "        [0.9300],\n",
              "        [0.9440],\n",
              "        [0.9580],\n",
              "        [0.9720],\n",
              "        [0.9860]])"
            ]
          },
          "metadata": {},
          "execution_count": 17
        }
      ]
    },
    {
      "cell_type": "code",
      "source": [
        "plot_predictions()"
      ],
      "metadata": {
        "id": "gVe4e_lZHoz9",
        "colab": {
          "base_uri": "https://localhost:8080/",
          "height": 428
        },
        "outputId": "5583ca1f-7635-4042-9d52-0951b55746c6"
      },
      "execution_count": null,
      "outputs": [
        {
          "output_type": "display_data",
          "data": {
            "text/plain": [
              "<Figure size 720x504 with 1 Axes>"
            ],
            "image/png": "[encoded data removed]"
          },
          "metadata": {
            "needs_background": "light"
          }
        }
      ]
    },
    {
      "cell_type": "code",
      "source": [
        "plot_predictions(predictions=y_pred_new)"
      ],
      "metadata": {
        "id": "RTQIEoZeHoxZ",
        "colab": {
          "base_uri": "https://localhost:8080/",
          "height": 428
        },
        "outputId": "4fabcd74-a1b2-422e-aaec-3a7ba80f6555"
      },
      "execution_count": null,
      "outputs": [
        {
          "output_type": "display_data",
          "data": {
            "text/plain": [
              "<Figure size 720x504 with 1 Axes>"
            ],
            "image/png": "[encoded data removed]"
          },
          "metadata": {
            "needs_background": "light"
          }
        }
      ]
    },
    {
      "cell_type": "code",
      "source": [
        "from pathlib import Path\n",
        "\n",
        "model_path=Path('model', )\n",
        "model_path.mkdir(parents=True, exist_ok=True)\n",
        "model_name='linear_model.pt'\n",
        "\n",
        "SAVE_PATH=model_path/model_name\n",
        "SAVE_PATH"
      ],
      "metadata": {
        "colab": {
          "base_uri": "https://localhost:8080/"
        },
        "id": "Ek1ObS2M2s1K",
        "outputId": "48a0b35b-e7c8-4ee4-d056-7a9bfdaacd82"
      },
      "execution_count": null,
      "outputs": [
        {
          "output_type": "execute_result",
          "data": {
            "text/plain": [
              "PosixPath('model/linear_model.pt')"
            ]
          },
          "metadata": {},
          "execution_count": 20
        }
      ]
    },
    {
      "cell_type": "code",
      "source": [
        "torch.save(obj=model_0.state_dict(), f=SAVE_PATH)"
      ],
      "metadata": {
        "id": "90xuEqN02syd"
      },
      "execution_count": null,
      "outputs": []
    },
    {
      "cell_type": "code",
      "source": [
        "loaded_model=LinearModel()\n",
        "loaded_model.load_state_dict(torch.load(f=SAVE_PATH))"
      ],
      "metadata": {
        "colab": {
          "base_uri": "https://localhost:8080/"
        },
        "id": "SZa-6rWi2sv0",
        "outputId": "0186d00d-c8b9-49bf-9437-897e3dd3d2e4"
      },
      "execution_count": null,
      "outputs": [
        {
          "output_type": "execute_result",
          "data": {
            "text/plain": [
              "<All keys matched successfully>"
            ]
          },
          "metadata": {},
          "execution_count": 22
        }
      ]
    },
    {
      "cell_type": "code",
      "source": [
        "loaded_model.state_dict()"
      ],
      "metadata": {
        "colab": {
          "base_uri": "https://localhost:8080/"
        },
        "id": "xS19hBmv2stE",
        "outputId": "2af71f56-40a9-4511-8bc6-f3b6d781bb60"
      },
      "execution_count": null,
      "outputs": [
        {
          "output_type": "execute_result",
          "data": {
            "text/plain": [
              "OrderedDict([('weights', tensor([0.7037])), ('bias', tensor([0.3006]))])"
            ]
          },
          "metadata": {},
          "execution_count": 23
        }
      ]
    },
    {
      "cell_type": "markdown",
      "source": [
        "##Putting it all togeteher"
      ],
      "metadata": {
        "id": "AticUKOq2sqc"
      }
    },
    {
      "cell_type": "code",
      "source": [
        "import torch\n",
        "from torch import nn\n",
        "import matplotlib.pyplot as plt\n",
        "weight=0.9\n",
        "bias=0.1\n",
        "\n",
        "x=torch.arange(0, 1, 0.001).unsqueeze(dim=1)\n"
      ],
      "metadata": {
        "id": "f5uXJ5jp2snq"
      },
      "execution_count": null,
      "outputs": []
    },
    {
      "cell_type": "code",
      "source": [
        "x.shape"
      ],
      "metadata": {
        "id": "SMiC2FTC2skx",
        "colab": {
          "base_uri": "https://localhost:8080/"
        },
        "outputId": "4605272f-6ff9-45ff-9614-bd5194331d3e"
      },
      "execution_count": null,
      "outputs": [
        {
          "output_type": "execute_result",
          "data": {
            "text/plain": [
              "torch.Size([1000, 1])"
            ]
          },
          "metadata": {},
          "execution_count": 2
        }
      ]
    },
    {
      "cell_type": "code",
      "source": [
        "y=weight*x + bias"
      ],
      "metadata": {
        "id": "t5TXzngu2siB"
      },
      "execution_count": null,
      "outputs": []
    },
    {
      "cell_type": "code",
      "source": [
        "splitter=int(len(x)*0.8)\n",
        "\n",
        "x_train, y_train = x[: splitter], y[: splitter]\n",
        "\n",
        "x_test, y_test = x[len(x_train):] , y[len(x_train):]"
      ],
      "metadata": {
        "id": "LJrjiTSlaeJ0"
      },
      "execution_count": null,
      "outputs": []
    },
    {
      "cell_type": "code",
      "source": [
        "def visualize(x_train=x_train, y_train=y_train, x_test=x_test, y_test=y_test, prediction=None):\n",
        "  plt.figure(figsize=(10, 7))\n",
        "\n",
        "  plt.plot(x_train, y_train, linestyle='dashed' ,label='Train')\n",
        "\n",
        "  plt.plot(x_test, y_test ,linestyle='dashed' ,label='Test')\n",
        "\n",
        "  if prediction is not None:\n",
        "    plt.plot(x_test, prediction ,linestyle='dashed' ,label='Prediction')\n",
        "\n",
        "  plt.legend(prop={\"size\": 14})"
      ],
      "metadata": {
        "id": "E6FWfZqwaeHd"
      },
      "execution_count": null,
      "outputs": []
    },
    {
      "cell_type": "code",
      "source": [
        "visualize()"
      ],
      "metadata": {
        "colab": {
          "base_uri": "https://localhost:8080/",
          "height": 428
        },
        "id": "kkcI2fataeE3",
        "outputId": "157f0367-f42c-4508-83af-54f5730e1ffb"
      },
      "execution_count": null,
      "outputs": [
        {
          "output_type": "display_data",
          "data": {
            "text/plain": [
              "<Figure size 720x504 with 1 Axes>"
            ],
            "image/png": "[encoded data removed]"
          },
          "metadata": {
            "needs_background": "light"
          }
        }
      ]
    },
    {
      "cell_type": "code",
      "source": [
        "class LinearRegression(nn.Module):\n",
        "  def __init__(self):\n",
        "    super().__init__()\n",
        "    self.linear=nn.Linear(in_features=1, out_features=1)\n",
        "  def forward(self, x:torch.tensor)->torch.tensor:\n",
        "    return self.linear(x)"
      ],
      "metadata": {
        "id": "06CE7JF1aeCk"
      },
      "execution_count": null,
      "outputs": []
    },
    {
      "cell_type": "code",
      "source": [
        "torch.manual_seed(42)\n",
        "model_1=LinearRegression()\n",
        "\n",
        "model_1.state_dict()"
      ],
      "metadata": {
        "id": "J09rqseLaeAL",
        "colab": {
          "base_uri": "https://localhost:8080/"
        },
        "outputId": "4db2cd27-681c-47f7-a843-085246cdcfe6"
      },
      "execution_count": null,
      "outputs": [
        {
          "output_type": "execute_result",
          "data": {
            "text/plain": [
              "OrderedDict([('linear.weight', tensor([[ 0.4414,  0.4792, -0.1353],\n",
              "                      [ 0.5304, -0.1265,  0.1165],\n",
              "                      [-0.2811,  0.3391,  0.5090],\n",
              "                      [-0.4236,  0.5018,  0.1081],\n",
              "                      [ 0.4266,  0.0782,  0.2784],\n",
              "                      [-0.0815,  0.4451,  0.0853],\n",
              "                      [-0.2695,  0.1472, -0.2660],\n",
              "                      [-0.0677, -0.2345,  0.3830],\n",
              "                      [-0.4557, -0.2662, -0.1630],\n",
              "                      [-0.3471,  0.0545, -0.5702]])),\n",
              "             ('linear.bias',\n",
              "              tensor([ 0.5214, -0.4904,  0.4457,  0.0961, -0.1875,  0.3568,  0.0900,  0.4665,\n",
              "                       0.0631, -0.1821]))])"
            ]
          },
          "metadata": {},
          "execution_count": 10
        }
      ]
    },
    {
      "cell_type": "code",
      "source": [
        "device='cuda'\n",
        "model_1.to(device)"
      ],
      "metadata": {
        "colab": {
          "base_uri": "https://localhost:8080/"
        },
        "id": "jnM_r6Pq9-q9",
        "outputId": "66390463-eaef-4648-89f3-9c070ec84774"
      },
      "execution_count": null,
      "outputs": [
        {
          "output_type": "execute_result",
          "data": {
            "text/plain": [
              "LinearRegression(\n",
              "  (linear): Linear(in_features=1, out_features=1, bias=True)\n",
              ")"
            ]
          },
          "metadata": {},
          "execution_count": 9
        }
      ]
    },
    {
      "cell_type": "code",
      "source": [
        "next(model_1.parameters()).device"
      ],
      "metadata": {
        "colab": {
          "base_uri": "https://localhost:8080/"
        },
        "id": "erRZGuYy-Eqj",
        "outputId": "a240d856-d511-4d88-fe16-fb36e3afff9b"
      },
      "execution_count": null,
      "outputs": [
        {
          "output_type": "execute_result",
          "data": {
            "text/plain": [
              "device(type='cuda', index=0)"
            ]
          },
          "metadata": {},
          "execution_count": 18
        }
      ]
    },
    {
      "cell_type": "code",
      "source": [
        "x_train=x_train.to(device)\n",
        "y_train=y_train.to(device)\n",
        "x_test=x_test.to(device)\n",
        "y_test=y_test.to(device)"
      ],
      "metadata": {
        "id": "3ng47RRR_lwe"
      },
      "execution_count": null,
      "outputs": []
    },
    {
      "cell_type": "code",
      "source": [
        "def train(epochs, x_train, y_train, x_test, y_test):\n",
        "  epoch_list=[]\n",
        "  loss_list=[]\n",
        "  test_loss_list=[]\n",
        "\n",
        "  optimizer=torch.optim.Adam(model_1.parameters(), lr=0.01)\n",
        "  loss_func=nn.L1Loss()\n",
        "\n",
        "  for epoch in range(epochs):\n",
        "\n",
        "    model_1.train()\n",
        "\n",
        "    y_pred=model_1(x_train)\n",
        "    \n",
        "    loss=loss_func(y_pred, y_train)\n",
        "\n",
        "    optimizer.zero_grad()\n",
        "\n",
        "    loss.backward()\n",
        "\n",
        "    optimizer.step()\n",
        "\n",
        "    epoch_list.append(epoch)\n",
        "    loss_list.append(loss)\n",
        "\n",
        "    with torch.inference_mode():\n",
        "      test_pred=model_1(x_test)\n",
        "      test_loss=loss_func(test_pred ,y_test)\n",
        "    test_loss_list.append(test_loss)\n",
        "\n",
        "    print(f\"Epoch: {epoch} | Test_loss: {test_loss} | Loss: {loss}\")\n",
        "\n",
        "  return epoch_list, loss_list, test_loss_list"
      ],
      "metadata": {
        "id": "GOJoAJUEad95"
      },
      "execution_count": null,
      "outputs": []
    },
    {
      "cell_type": "code",
      "source": [
        "history=train(300,x_train, y_train, x_test, y_test)"
      ],
      "metadata": {
        "id": "2ynDCp4aad7h",
        "colab": {
          "base_uri": "https://localhost:8080/"
        },
        "outputId": "a8251dc3-a667-4f91-c07c-aa424d3a1544"
      },
      "execution_count": null,
      "outputs": [
        {
          "output_type": "stream",
          "name": "stdout",
          "text": [
            "Epoch: 0 | Test_loss: 0.5891653299331665 | Loss: 0.675891101360321\n",
            "Epoch: 1 | Test_loss: 0.5701703429222107 | Loss: 0.6618960499763489\n",
            "Epoch: 2 | Test_loss: 0.5511753559112549 | Loss: 0.6479010581970215\n",
            "Epoch: 3 | Test_loss: 0.5321803689002991 | Loss: 0.6339060664176941\n",
            "Epoch: 4 | Test_loss: 0.5131853818893433 | Loss: 0.6199110746383667\n",
            "Epoch: 5 | Test_loss: 0.49419042468070984 | Loss: 0.6059161424636841\n",
            "Epoch: 6 | Test_loss: 0.4751954674720764 | Loss: 0.5919210910797119\n",
            "Epoch: 7 | Test_loss: 0.4562004804611206 | Loss: 0.5779260993003845\n",
            "Epoch: 8 | Test_loss: 0.4372054636478424 | Loss: 0.5639311671257019\n",
            "Epoch: 9 | Test_loss: 0.4182104766368866 | Loss: 0.5499361753463745\n",
            "Epoch: 10 | Test_loss: 0.3992154896259308 | Loss: 0.5359411239624023\n",
            "Epoch: 11 | Test_loss: 0.38022053241729736 | Loss: 0.5219461917877197\n",
            "Epoch: 12 | Test_loss: 0.36122554540634155 | Loss: 0.5079512000083923\n",
            "Epoch: 13 | Test_loss: 0.34223055839538574 | Loss: 0.49395620822906494\n",
            "Epoch: 14 | Test_loss: 0.32323554158210754 | Loss: 0.47996124625205994\n",
            "Epoch: 15 | Test_loss: 0.3042406141757965 | Loss: 0.46596625447273254\n",
            "Epoch: 16 | Test_loss: 0.2852455973625183 | Loss: 0.45197123289108276\n",
            "Epoch: 17 | Test_loss: 0.2662506401538849 | Loss: 0.43797630071640015\n",
            "Epoch: 18 | Test_loss: 0.24725566804409027 | Loss: 0.42398130893707275\n",
            "Epoch: 19 | Test_loss: 0.22826068103313446 | Loss: 0.4099862575531006\n",
            "Epoch: 20 | Test_loss: 0.20926570892333984 | Loss: 0.39599132537841797\n",
            "Epoch: 21 | Test_loss: 0.19027070701122284 | Loss: 0.3819963037967682\n",
            "Epoch: 22 | Test_loss: 0.17127572000026703 | Loss: 0.36800137162208557\n",
            "Epoch: 23 | Test_loss: 0.1522807478904724 | Loss: 0.3540063500404358\n",
            "Epoch: 24 | Test_loss: 0.1332857608795166 | Loss: 0.3400113582611084\n",
            "Epoch: 25 | Test_loss: 0.11429078876972198 | Loss: 0.326016366481781\n",
            "Epoch: 26 | Test_loss: 0.09529578685760498 | Loss: 0.312021404504776\n",
            "Epoch: 27 | Test_loss: 0.07630082219839096 | Loss: 0.2980264127254486\n",
            "Epoch: 28 | Test_loss: 0.05730583891272545 | Loss: 0.2840314209461212\n",
            "Epoch: 29 | Test_loss: 0.038625553250312805 | Loss: 0.2700364291667938\n",
            "Epoch: 30 | Test_loss: 0.026460595428943634 | Loss: 0.25604143738746643\n",
            "Epoch: 31 | Test_loss: 0.02277398854494095 | Loss: 0.24204646050930023\n",
            "Epoch: 32 | Test_loss: 0.02701900340616703 | Loss: 0.22805148363113403\n",
            "Epoch: 33 | Test_loss: 0.03869485855102539 | Loss: 0.21405649185180664\n",
            "Epoch: 34 | Test_loss: 0.056664057075977325 | Loss: 0.20006148517131805\n",
            "Epoch: 35 | Test_loss: 0.0755702406167984 | Loss: 0.18623614311218262\n",
            "Epoch: 36 | Test_loss: 0.09420464932918549 | Loss: 0.17383816838264465\n",
            "Epoch: 37 | Test_loss: 0.11241486668586731 | Loss: 0.1630890816450119\n",
            "Epoch: 38 | Test_loss: 0.1300646811723709 | Loss: 0.15390191972255707\n",
            "Epoch: 39 | Test_loss: 0.1470382809638977 | Loss: 0.14616087079048157\n",
            "Epoch: 40 | Test_loss: 0.16323894262313843 | Loss: 0.13973098993301392\n",
            "Epoch: 41 | Test_loss: 0.17858798801898956 | Loss: 0.13446803390979767\n",
            "Epoch: 42 | Test_loss: 0.19302360713481903 | Loss: 0.1302260160446167\n",
            "Epoch: 43 | Test_loss: 0.20650014281272888 | Loss: 0.12686248123645782\n",
            "Epoch: 44 | Test_loss: 0.21898698806762695 | Loss: 0.12424218654632568\n",
            "Epoch: 45 | Test_loss: 0.23046161234378815 | Loss: 0.12224000692367554\n",
            "Epoch: 46 | Test_loss: 0.2409152388572693 | Loss: 0.12074178457260132\n",
            "Epoch: 47 | Test_loss: 0.25035151839256287 | Loss: 0.11964529752731323\n",
            "Epoch: 48 | Test_loss: 0.2587798237800598 | Loss: 0.11886002868413925\n",
            "Epoch: 49 | Test_loss: 0.2662147581577301 | Loss: 0.11830715835094452\n",
            "Epoch: 50 | Test_loss: 0.27268141508102417 | Loss: 0.11791931092739105\n",
            "Epoch: 51 | Test_loss: 0.27820873260498047 | Loss: 0.11763879656791687\n",
            "Epoch: 52 | Test_loss: 0.2828289568424225 | Loss: 0.1174178496003151\n",
            "Epoch: 53 | Test_loss: 0.2865831255912781 | Loss: 0.11721738427877426\n",
            "Epoch: 54 | Test_loss: 0.2895086705684662 | Loss: 0.11700647324323654\n",
            "Epoch: 55 | Test_loss: 0.29164549708366394 | Loss: 0.11676038801670074\n",
            "Epoch: 56 | Test_loss: 0.2930356562137604 | Loss: 0.11646067351102829\n",
            "Epoch: 57 | Test_loss: 0.29372310638427734 | Loss: 0.1160942018032074\n",
            "Epoch: 58 | Test_loss: 0.29375356435775757 | Loss: 0.11565238982439041\n",
            "Epoch: 59 | Test_loss: 0.2931686341762543 | Loss: 0.11513064056634903\n",
            "Epoch: 60 | Test_loss: 0.29201745986938477 | Loss: 0.11452726274728775\n",
            "Epoch: 61 | Test_loss: 0.2903389632701874 | Loss: 0.113844133913517\n",
            "Epoch: 62 | Test_loss: 0.28818008303642273 | Loss: 0.11308398842811584\n",
            "Epoch: 63 | Test_loss: 0.2855833172798157 | Loss: 0.11225221306085587\n",
            "Epoch: 64 | Test_loss: 0.282587468624115 | Loss: 0.11135509610176086\n",
            "Epoch: 65 | Test_loss: 0.2792392671108246 | Loss: 0.11039987206459045\n",
            "Epoch: 66 | Test_loss: 0.27557554841041565 | Loss: 0.10939507931470871\n",
            "Epoch: 67 | Test_loss: 0.27163565158843994 | Loss: 0.1083483025431633\n",
            "Epoch: 68 | Test_loss: 0.26745542883872986 | Loss: 0.10726785659790039\n",
            "Epoch: 69 | Test_loss: 0.26307350397109985 | Loss: 0.10616195201873779\n",
            "Epoch: 70 | Test_loss: 0.2585252821445465 | Loss: 0.10503824055194855\n",
            "Epoch: 71 | Test_loss: 0.2538430094718933 | Loss: 0.10390394181013107\n",
            "Epoch: 72 | Test_loss: 0.24906226992607117 | Loss: 0.10276569426059723\n",
            "Epoch: 73 | Test_loss: 0.24421586096286774 | Loss: 0.10162929445505142\n",
            "Epoch: 74 | Test_loss: 0.23932738602161407 | Loss: 0.10050000250339508\n",
            "Epoch: 75 | Test_loss: 0.234424889087677 | Loss: 0.09938141703605652\n",
            "Epoch: 76 | Test_loss: 0.22954070568084717 | Loss: 0.09827674925327301\n",
            "Epoch: 77 | Test_loss: 0.22469796240329742 | Loss: 0.09718874096870422\n",
            "Epoch: 78 | Test_loss: 0.21991805732250214 | Loss: 0.09611858427524567\n",
            "Epoch: 79 | Test_loss: 0.21522065997123718 | Loss: 0.09506673365831375\n",
            "Epoch: 80 | Test_loss: 0.21062397956848145 | Loss: 0.09403294324874878\n",
            "Epoch: 81 | Test_loss: 0.20614491403102875 | Loss: 0.09301634877920151\n",
            "Epoch: 82 | Test_loss: 0.20179907977581024 | Loss: 0.09201551228761673\n",
            "Epoch: 83 | Test_loss: 0.19760103523731232 | Loss: 0.09102845937013626\n",
            "Epoch: 84 | Test_loss: 0.19355720281600952 | Loss: 0.09005289524793625\n",
            "Epoch: 85 | Test_loss: 0.18968085944652557 | Loss: 0.08908630162477493\n",
            "Epoch: 86 | Test_loss: 0.18597713112831116 | Loss: 0.08812588453292847\n",
            "Epoch: 87 | Test_loss: 0.18245093524456024 | Loss: 0.08716884255409241\n",
            "Epoch: 88 | Test_loss: 0.17909961938858032 | Loss: 0.08621246367692947\n",
            "Epoch: 89 | Test_loss: 0.17592832446098328 | Loss: 0.08525451272726059\n",
            "Epoch: 90 | Test_loss: 0.17293448746204376 | Loss: 0.08429250866174698\n",
            "Epoch: 91 | Test_loss: 0.17011600732803345 | Loss: 0.08332444727420807\n",
            "Epoch: 92 | Test_loss: 0.16746343672275543 | Loss: 0.08234895765781403\n",
            "Epoch: 93 | Test_loss: 0.1649683713912964 | Loss: 0.0813646987080574\n",
            "Epoch: 94 | Test_loss: 0.16262328624725342 | Loss: 0.08037103712558746\n",
            "Epoch: 95 | Test_loss: 0.16042137145996094 | Loss: 0.07936737686395645\n",
            "Epoch: 96 | Test_loss: 0.15834876894950867 | Loss: 0.07835380733013153\n",
            "Epoch: 97 | Test_loss: 0.15639308094978333 | Loss: 0.07733040302991867\n",
            "Epoch: 98 | Test_loss: 0.15453508496284485 | Loss: 0.07629771530628204\n",
            "Epoch: 99 | Test_loss: 0.15276533365249634 | Loss: 0.0752568244934082\n",
            "Epoch: 100 | Test_loss: 0.1510673314332962 | Loss: 0.07420819997787476\n",
            "Epoch: 101 | Test_loss: 0.1494261473417282 | Loss: 0.07315288484096527\n",
            "Epoch: 102 | Test_loss: 0.14782817661762238 | Loss: 0.07209184765815735\n",
            "Epoch: 103 | Test_loss: 0.14626114070415497 | Loss: 0.07102587819099426\n",
            "Epoch: 104 | Test_loss: 0.1447058767080307 | Loss: 0.06995580345392227\n",
            "Epoch: 105 | Test_loss: 0.14315304160118103 | Loss: 0.06888243556022644\n",
            "Epoch: 106 | Test_loss: 0.14158599078655243 | Loss: 0.06780620664358139\n",
            "Epoch: 107 | Test_loss: 0.13999781012535095 | Loss: 0.06672751158475876\n",
            "Epoch: 108 | Test_loss: 0.13837409019470215 | Loss: 0.06564673036336899\n",
            "Epoch: 109 | Test_loss: 0.13670168817043304 | Loss: 0.06456376612186432\n",
            "Epoch: 110 | Test_loss: 0.13497686386108398 | Loss: 0.06347872316837311\n",
            "Epoch: 111 | Test_loss: 0.13318799436092377 | Loss: 0.06239139288663864\n",
            "Epoch: 112 | Test_loss: 0.13133269548416138 | Loss: 0.061301473528146744\n",
            "Epoch: 113 | Test_loss: 0.12940065562725067 | Loss: 0.06020867079496384\n",
            "Epoch: 114 | Test_loss: 0.12739059329032898 | Loss: 0.059112709015607834\n",
            "Epoch: 115 | Test_loss: 0.12530139088630676 | Loss: 0.05801313370466232\n",
            "Epoch: 116 | Test_loss: 0.12313197553157806 | Loss: 0.056909628212451935\n",
            "Epoch: 117 | Test_loss: 0.1208813413977623 | Loss: 0.05580189451575279\n",
            "Epoch: 118 | Test_loss: 0.11855684220790863 | Loss: 0.05468982458114624\n",
            "Epoch: 119 | Test_loss: 0.11615683883428574 | Loss: 0.05357317626476288\n",
            "Epoch: 120 | Test_loss: 0.11368810385465622 | Loss: 0.05245198681950569\n",
            "Epoch: 121 | Test_loss: 0.11115677654743195 | Loss: 0.05132618919014931\n",
            "Epoch: 122 | Test_loss: 0.10856836289167404 | Loss: 0.050195906311273575\n",
            "Epoch: 123 | Test_loss: 0.105927973985672 | Loss: 0.04906124994158745\n",
            "Epoch: 124 | Test_loss: 0.1032484695315361 | Loss: 0.04792249575257301\n",
            "Epoch: 125 | Test_loss: 0.10053326189517975 | Loss: 0.04677977040410042\n",
            "Epoch: 126 | Test_loss: 0.09779375046491623 | Loss: 0.04563334956765175\n",
            "Epoch: 127 | Test_loss: 0.09504043310880661 | Loss: 0.04448333755135536\n",
            "Epoch: 128 | Test_loss: 0.09227419644594193 | Loss: 0.043329961597919464\n",
            "Epoch: 129 | Test_loss: 0.08950448036193848 | Loss: 0.04217337444424629\n",
            "Epoch: 130 | Test_loss: 0.08673981577157974 | Loss: 0.04101359099149704\n",
            "Epoch: 131 | Test_loss: 0.08398806303739548 | Loss: 0.03985064476728439\n",
            "Epoch: 132 | Test_loss: 0.08125627040863037 | Loss: 0.038684502243995667\n",
            "Epoch: 133 | Test_loss: 0.07855094224214554 | Loss: 0.03751508146524429\n",
            "Epoch: 134 | Test_loss: 0.07586917281150818 | Loss: 0.036342255771160126\n",
            "Epoch: 135 | Test_loss: 0.07321717590093613 | Loss: 0.03516605868935585\n",
            "Epoch: 136 | Test_loss: 0.07060061395168304 | Loss: 0.03398618474602699\n",
            "Epoch: 137 | Test_loss: 0.06801577657461166 | Loss: 0.03280267491936684\n",
            "Epoch: 138 | Test_loss: 0.06545927375555038 | Loss: 0.03161539137363434\n",
            "Epoch: 139 | Test_loss: 0.06292814761400223 | Loss: 0.030424365773797035\n",
            "Epoch: 140 | Test_loss: 0.06041963770985603 | Loss: 0.029229650273919106\n",
            "Epoch: 141 | Test_loss: 0.05792226642370224 | Loss: 0.028031300753355026\n",
            "Epoch: 142 | Test_loss: 0.05543474853038788 | Loss: 0.026829537004232407\n",
            "Epoch: 143 | Test_loss: 0.052946772426366806 | Loss: 0.025624381378293037\n",
            "Epoch: 144 | Test_loss: 0.050449106842279434 | Loss: 0.024415982887148857\n",
            "Epoch: 145 | Test_loss: 0.04794243350625038 | Loss: 0.023204458877444267\n",
            "Epoch: 146 | Test_loss: 0.04541819170117378 | Loss: 0.02198987826704979\n",
            "Epoch: 147 | Test_loss: 0.0428687185049057 | Loss: 0.020772237330675125\n",
            "Epoch: 148 | Test_loss: 0.040287066251039505 | Loss: 0.019551532343029976\n",
            "Epoch: 149 | Test_loss: 0.0376669317483902 | Loss: 0.018327703699469566\n",
            "Epoch: 150 | Test_loss: 0.035002630203962326 | Loss: 0.01710064336657524\n",
            "Epoch: 151 | Test_loss: 0.03229811415076256 | Loss: 0.015870222821831703\n",
            "Epoch: 152 | Test_loss: 0.02954782359302044 | Loss: 0.01463645976036787\n",
            "Epoch: 153 | Test_loss: 0.026765108108520508 | Loss: 0.013399294577538967\n",
            "Epoch: 154 | Test_loss: 0.02395283803343773 | Loss: 0.012158882804214954\n",
            "Epoch: 155 | Test_loss: 0.021122874692082405 | Loss: 0.010915357619524002\n",
            "Epoch: 156 | Test_loss: 0.0182952918112278 | Loss: 0.009668953716754913\n",
            "Epoch: 157 | Test_loss: 0.015488367527723312 | Loss: 0.008419801481068134\n",
            "Epoch: 158 | Test_loss: 0.01271863467991352 | Loss: 0.007167852949351072\n",
            "Epoch: 159 | Test_loss: 0.009991750121116638 | Loss: 0.0059128194116055965\n",
            "Epoch: 160 | Test_loss: 0.0073128342628479 | Loss: 0.00465435441583395\n",
            "Epoch: 161 | Test_loss: 0.004657994490116835 | Loss: 0.003392299870029092\n",
            "Epoch: 162 | Test_loss: 0.001977205742150545 | Loss: 0.00212736870162189\n",
            "Epoch: 163 | Test_loss: 0.0008871826576068997 | Loss: 0.0008615237311460078\n",
            "Epoch: 164 | Test_loss: 0.0032171388156712055 | Loss: 0.00041031170985661447\n",
            "Epoch: 165 | Test_loss: 0.00492884824052453 | Loss: 0.0014297214802354574\n",
            "Epoch: 166 | Test_loss: 0.00613182270899415 | Loss: 0.0022202173713594675\n",
            "Epoch: 167 | Test_loss: 0.006934789940714836 | Loss: 0.0028053985442966223\n",
            "Epoch: 168 | Test_loss: 0.007406563963741064 | Loss: 0.0032056784257292747\n",
            "Epoch: 169 | Test_loss: 0.007599459495395422 | Loss: 0.003438348416239023\n",
            "Epoch: 170 | Test_loss: 0.007531111128628254 | Loss: 0.0035191145725548267\n",
            "Epoch: 171 | Test_loss: 0.007197667378932238 | Loss: 0.0034627639688551426\n",
            "Epoch: 172 | Test_loss: 0.006605527363717556 | Loss: 0.0032828133553266525\n",
            "Epoch: 173 | Test_loss: 0.005750665441155434 | Loss: 0.0029911038000136614\n",
            "Epoch: 174 | Test_loss: 0.004649095702916384 | Loss: 0.002597964135929942\n",
            "Epoch: 175 | Test_loss: 0.0033446329180151224 | Loss: 0.0021129129454493523\n",
            "Epoch: 176 | Test_loss: 0.001916545326821506 | Loss: 0.0015452330699190497\n",
            "Epoch: 177 | Test_loss: 0.00043673781328834593 | Loss: 0.0009028646745719016\n",
            "Epoch: 178 | Test_loss: 0.0013270300114527345 | Loss: 0.0001918347115861252\n",
            "Epoch: 179 | Test_loss: 0.0024722495581954718 | Loss: 0.0005813086754642427\n",
            "Epoch: 180 | Test_loss: 0.0032607128378003836 | Loss: 0.0011453790357336402\n",
            "Epoch: 181 | Test_loss: 0.003758135251700878 | Loss: 0.0015233149752020836\n",
            "Epoch: 182 | Test_loss: 0.003942567855119705 | Loss: 0.0017314049182459712\n",
            "Epoch: 183 | Test_loss: 0.0037842702586203814 | Loss: 0.0017871082527562976\n",
            "Epoch: 184 | Test_loss: 0.0032969173043966293 | Loss: 0.0017048727022483945\n",
            "Epoch: 185 | Test_loss: 0.0025432368274778128 | Loss: 0.0014974618097767234\n",
            "Epoch: 186 | Test_loss: 0.0016204860294237733 | Loss: 0.0011775731109082699\n",
            "Epoch: 187 | Test_loss: 0.0005658221198245883 | Loss: 0.0007556563359685242\n",
            "Epoch: 188 | Test_loss: 0.0009198426851071417 | Loss: 0.0002421027747914195\n",
            "Epoch: 189 | Test_loss: 0.0013646152801811695 | Loss: 0.0003639131609816104\n",
            "Epoch: 190 | Test_loss: 0.00217164633795619 | Loss: 0.0007819220190867782\n",
            "Epoch: 191 | Test_loss: 0.0026239831931889057 | Loss: 0.0009988236706703901\n",
            "Epoch: 192 | Test_loss: 0.002352347131818533 | Loss: 0.001086789183318615\n",
            "Epoch: 193 | Test_loss: 0.0016083538066595793 | Loss: 0.001016678404994309\n",
            "Epoch: 194 | Test_loss: 0.0010422158520668745 | Loss: 0.0008297103340737522\n",
            "Epoch: 195 | Test_loss: 0.0005192845710553229 | Loss: 0.0005180131993256509\n",
            "Epoch: 196 | Test_loss: 0.0031568743288517 | Loss: 0.00020003823738079518\n",
            "Epoch: 197 | Test_loss: 0.002576821483671665 | Loss: 0.0017770691774785519\n",
            "Epoch: 198 | Test_loss: 0.00019329815404489636 | Loss: 0.0009042387828230858\n",
            "Epoch: 199 | Test_loss: 0.001340954564511776 | Loss: 0.001892847940325737\n",
            "Epoch: 200 | Test_loss: 0.004349145572632551 | Loss: 0.0013626039726659656\n",
            "Epoch: 201 | Test_loss: 0.005051854066550732 | Loss: 0.0015260546933859587\n",
            "Epoch: 202 | Test_loss: 0.003058388829231262 | Loss: 0.0018201122293248773\n",
            "Epoch: 203 | Test_loss: 0.00016727088950574398 | Loss: 0.0011403273092582822\n",
            "Epoch: 204 | Test_loss: 0.0011574574746191502 | Loss: 0.0015741506358608603\n",
            "Epoch: 205 | Test_loss: 0.002390599576756358 | Loss: 0.0006261147209443152\n",
            "Epoch: 206 | Test_loss: 0.00027711837901733816 | Loss: 0.001257527619600296\n",
            "Epoch: 207 | Test_loss: 0.001072554849088192 | Loss: 0.00021505697804968804\n",
            "Epoch: 208 | Test_loss: 0.0014308368554338813 | Loss: 0.001310659572482109\n",
            "Epoch: 209 | Test_loss: 0.0023723619524389505 | Loss: 0.0005240248283371329\n",
            "Epoch: 210 | Test_loss: 0.0006682646344415843 | Loss: 0.0008544664015062153\n",
            "Epoch: 211 | Test_loss: 0.0006715109921060503 | Loss: 0.0006381135317496955\n",
            "Epoch: 212 | Test_loss: 0.0015397912357002497 | Loss: 0.0004695659736171365\n",
            "Epoch: 213 | Test_loss: 0.0013680234551429749 | Loss: 0.0007291838410310447\n",
            "Epoch: 214 | Test_loss: 0.00031326859607361257 | Loss: 0.0011232101824134588\n",
            "Epoch: 215 | Test_loss: 0.0014668607618659735 | Loss: 0.00012440285354387015\n",
            "Epoch: 216 | Test_loss: 0.0005774876335635781 | Loss: 0.0013886159285902977\n",
            "Epoch: 217 | Test_loss: 0.0004170331230852753 | Loss: 0.00020259420853108168\n",
            "Epoch: 218 | Test_loss: 0.0033357669599354267 | Loss: 0.00019266649906057864\n",
            "Epoch: 219 | Test_loss: 0.003107148688286543 | Loss: 0.0024924965109676123\n",
            "Epoch: 220 | Test_loss: 0.0006573221180588007 | Loss: 0.0021711941808462143\n",
            "Epoch: 221 | Test_loss: 0.0004851251724176109 | Loss: 0.0008172247326001525\n",
            "Epoch: 222 | Test_loss: 0.003185144392773509 | Loss: 0.0008048554882407188\n",
            "Epoch: 223 | Test_loss: 0.0029743947088718414 | Loss: 0.0018714448669925332\n",
            "Epoch: 224 | Test_loss: 0.0006869989447295666 | Loss: 0.001617123489268124\n",
            "Epoch: 225 | Test_loss: 0.0005097365356050432 | Loss: 0.0012403823202475905\n",
            "Epoch: 226 | Test_loss: 0.0030821627005934715 | Loss: 0.00118200050201267\n",
            "Epoch: 227 | Test_loss: 0.0028832608368247747 | Loss: 0.001467996509745717\n",
            "Epoch: 228 | Test_loss: 0.0006231251172721386 | Loss: 0.0012575708096846938\n",
            "Epoch: 229 | Test_loss: 0.0003840368881355971 | Loss: 0.0014328679535537958\n",
            "Epoch: 230 | Test_loss: 0.0031898266170173883 | Loss: 0.0012865238822996616\n",
            "Epoch: 231 | Test_loss: 0.0031281705014407635 | Loss: 0.001384310657158494\n",
            "Epoch: 232 | Test_loss: 0.00012751191388815641 | Loss: 0.0013322702143341303\n",
            "Epoch: 233 | Test_loss: 0.00030747472192160785 | Loss: 0.0010893568396568298\n",
            "Epoch: 234 | Test_loss: 0.0034556735772639513 | Loss: 0.0007579216035082936\n",
            "Epoch: 235 | Test_loss: 0.0029885577969253063 | Loss: 0.0016925821546465158\n",
            "Epoch: 236 | Test_loss: 0.0007008915999904275 | Loss: 0.0014023147523403168\n",
            "Epoch: 237 | Test_loss: 0.0007504308014176786 | Loss: 0.0013244289439171553\n",
            "Epoch: 238 | Test_loss: 0.0024455904494971037 | Loss: 0.0013119203504174948\n",
            "Epoch: 239 | Test_loss: 0.0020829897839576006 | Loss: 0.0011415445478633046\n",
            "Epoch: 240 | Test_loss: 0.0013957532355561852 | Loss: 0.0009088992956094444\n",
            "Epoch: 241 | Test_loss: 0.0013146763667464256 | Loss: 0.001662168768234551\n",
            "Epoch: 242 | Test_loss: 0.0019425973296165466 | Loss: 0.001556296949274838\n",
            "Epoch: 243 | Test_loss: 0.0016904013464227319 | Loss: 0.0009361886768601835\n",
            "Epoch: 244 | Test_loss: 0.0016938262851908803 | Loss: 0.0007823717314749956\n",
            "Epoch: 245 | Test_loss: 0.0015820693224668503 | Loss: 0.0017318972386419773\n",
            "Epoch: 246 | Test_loss: 0.0016507023246958852 | Loss: 0.001618888694792986\n",
            "Epoch: 247 | Test_loss: 0.001428387127816677 | Loss: 0.0008383673848584294\n",
            "Epoch: 248 | Test_loss: 0.0018791109323501587 | Loss: 0.0006944619817659259\n",
            "Epoch: 249 | Test_loss: 0.0017482409020885825 | Loss: 0.0017710005631670356\n",
            "Epoch: 250 | Test_loss: 0.0014536705566570163 | Loss: 0.0016539599746465683\n",
            "Epoch: 251 | Test_loss: 0.0012515013804659247 | Loss: 0.0007686217431910336\n",
            "Epoch: 252 | Test_loss: 0.001991841709241271 | Loss: 0.0006317797233350575\n",
            "Epoch: 253 | Test_loss: 0.0018493871903046966 | Loss: 0.0017905988497659564\n",
            "Epoch: 254 | Test_loss: 0.0013185810530558228 | Loss: 0.0016715398523956537\n",
            "Epoch: 255 | Test_loss: 0.0011301320046186447 | Loss: 0.0007175439386628568\n",
            "Epoch: 256 | Test_loss: 0.002058180281892419 | Loss: 0.0005858386866748333\n",
            "Epoch: 257 | Test_loss: 0.0019089108100160956 | Loss: 0.001797959441319108\n",
            "Epoch: 258 | Test_loss: 0.0012240633368492126 | Loss: 0.0016781346639618278\n",
            "Epoch: 259 | Test_loss: 0.001045221695676446 | Loss: 0.000678965647239238\n",
            "Epoch: 260 | Test_loss: 0.002094774506986141 | Loss: 0.0005511474446393549\n",
            "Epoch: 261 | Test_loss: 0.0019417288713157177 | Loss: 0.0017976590897887945\n",
            "Epoch: 262 | Test_loss: 0.0011563488515093923 | Loss: 0.0016778422286733985\n",
            "Epoch: 263 | Test_loss: 0.0009843796724453568 | Loss: 0.0006488913204520941\n",
            "Epoch: 264 | Test_loss: 0.002112447051331401 | Loss: 0.0005240992177277803\n",
            "Epoch: 265 | Test_loss: 0.0019575043115764856 | Loss: 0.0017926821019500494\n",
            "Epoch: 266 | Test_loss: 0.0011064913123846054 | Loss: 0.0016733232187107205\n",
            "Epoch: 267 | Test_loss: 0.0009395822416990995 | Loss: 0.000624694162979722\n",
            "Epoch: 268 | Test_loss: 0.0021181809715926647 | Loss: 0.000502340029925108\n",
            "Epoch: 269 | Test_loss: 0.001962642651051283 | Loss: 0.0017849451396614313\n",
            "Epoch: 270 | Test_loss: 0.0010684665758162737 | Loss: 0.0016663613496348262\n",
            "Epoch: 271 | Test_loss: 0.0009054028778336942 | Loss: 0.000604549830313772\n",
            "Epoch: 272 | Test_loss: 0.0021165122743695974 | Loss: 0.0004842228372581303\n",
            "Epoch: 273 | Test_loss: 0.001961121568456292 | Loss: 0.0017756762681528926\n",
            "Epoch: 274 | Test_loss: 0.0010384776396676898 | Loss: 0.001658015651628375\n",
            "Epoch: 275 | Test_loss: 0.0008784126839600503 | Loss: 0.0005873176269233227\n",
            "Epoch: 276 | Test_loss: 0.002110391855239868 | Loss: 0.0004687071486841887\n",
            "Epoch: 277 | Test_loss: 0.0019555671606212854 | Loss: 0.0017656811978667974\n",
            "Epoch: 278 | Test_loss: 0.0010140219237655401 | Loss: 0.0016490063862875104\n",
            "Epoch: 279 | Test_loss: 0.0008564242743887007 | Loss: 0.0005722187925130129\n",
            "Epoch: 280 | Test_loss: 0.0021015596576035023 | Loss: 0.0004551226447802037\n",
            "Epoch: 281 | Test_loss: 0.001947616576217115 | Loss: 0.0017553889192640781\n",
            "Epoch: 282 | Test_loss: 0.0009933853289112449 | Loss: 0.001639742054976523\n",
            "Epoch: 283 | Test_loss: 0.000837857136502862 | Loss: 0.0005587044870480895\n",
            "Epoch: 284 | Test_loss: 0.0020912683103233576 | Loss: 0.0004429622204042971\n",
            "Epoch: 285 | Test_loss: 0.001938354573212564 | Loss: 0.0017451285384595394\n",
            "Epoch: 286 | Test_loss: 0.0009755048085935414 | Loss: 0.0016305095050483942\n",
            "Epoch: 287 | Test_loss: 0.0008217695285566151 | Loss: 0.0005464270943775773\n",
            "Epoch: 288 | Test_loss: 0.002080261940136552 | Loss: 0.00043191222357563674\n",
            "Epoch: 289 | Test_loss: 0.0019284393638372421 | Loss: 0.0017350750276818871\n",
            "Epoch: 290 | Test_loss: 0.0009596564923413098 | Loss: 0.0016214591450989246\n",
            "Epoch: 291 | Test_loss: 0.0008075403748080134 | Loss: 0.0005351396976038814\n",
            "Epoch: 292 | Test_loss: 0.0020689894445240498 | Loss: 0.00042176558054052293\n",
            "Epoch: 293 | Test_loss: 0.0019182926043868065 | Loss: 0.0017253226833418012\n",
            "Epoch: 294 | Test_loss: 0.0009453356033191085 | Loss: 0.0016126820119097829\n",
            "Epoch: 295 | Test_loss: 0.0007946068071760237 | Loss: 0.0005246617365628481\n",
            "Epoch: 296 | Test_loss: 0.0020577386021614075 | Loss: 0.0004123188555240631\n",
            "Epoch: 297 | Test_loss: 0.001908151782117784 | Loss: 0.0017159185372292995\n",
            "Epoch: 298 | Test_loss: 0.0009322073892690241 | Loss: 0.001604211051017046\n",
            "Epoch: 299 | Test_loss: 0.0007828339585103095 | Loss: 0.0005148728960193694\n"
          ]
        }
      ]
    },
    {
      "cell_type": "code",
      "source": [
        "model_1.state_dict()"
      ],
      "metadata": {
        "colab": {
          "base_uri": "https://localhost:8080/"
        },
        "id": "7HKL2Um_ad0g",
        "outputId": "7b8464e7-eecc-4557-a6e6-f800e34bf32b"
      },
      "execution_count": null,
      "outputs": [
        {
          "output_type": "execute_result",
          "data": {
            "text/plain": [
              "OrderedDict([('linear.weight', tensor([[0.9008]], device='cuda:0')),\n",
              "             ('linear.bias', tensor([0.1001], device='cuda:0'))])"
            ]
          },
          "metadata": {},
          "execution_count": 22
        }
      ]
    },
    {
      "cell_type": "code",
      "source": [
        "weight, bias"
      ],
      "metadata": {
        "colab": {
          "base_uri": "https://localhost:8080/"
        },
        "id": "fRtC56M2adyE",
        "outputId": "8bc3a127-18ea-40aa-84a2-987cb04aeb20"
      },
      "execution_count": null,
      "outputs": [
        {
          "output_type": "execute_result",
          "data": {
            "text/plain": [
              "(0.9, 0.1)"
            ]
          },
          "metadata": {},
          "execution_count": 23
        }
      ]
    },
    {
      "cell_type": "code",
      "source": [
        "with torch.inference_mode():\n",
        "  y_pred_new=model_1(x_test)"
      ],
      "metadata": {
        "id": "mkcc0UI7m2DS"
      },
      "execution_count": null,
      "outputs": []
    },
    {
      "cell_type": "code",
      "source": [
        "y_pred_new=y_pred_new.to('cpu')"
      ],
      "metadata": {
        "id": "I0eW8qz3AAaE"
      },
      "execution_count": null,
      "outputs": []
    },
    {
      "cell_type": "code",
      "source": [
        "visualize(prediction=y_pred_new)"
      ],
      "metadata": {
        "colab": {
          "base_uri": "https://localhost:8080/",
          "height": 428
        },
        "id": "TA-Cr26zadvg",
        "outputId": "c05f68ae-f079-4251-9acd-503c6f3fe0c5"
      },
      "execution_count": null,
      "outputs": [
        {
          "output_type": "display_data",
          "data": {
            "text/plain": [
              "<Figure size 720x504 with 1 Axes>"
            ],
            "image/png": "[encoded data removed]"
          },
          "metadata": {
            "needs_background": "light"
          }
        }
      ]
    },
    {
      "cell_type": "code",
      "source": [
        "save=torch.save(obj=model_1, f=\"/content/model/self.pt\")"
      ],
      "metadata": {
        "id": "bXZajKdiadtL"
      },
      "execution_count": null,
      "outputs": []
    },
    {
      "cell_type": "code",
      "source": [
        "load=torch.load(f=\"/content/model/self.pt\")"
      ],
      "metadata": {
        "id": "s-rc3UjaadqL"
      },
      "execution_count": null,
      "outputs": []
    },
    {
      "cell_type": "code",
      "source": [
        "load.state_dict()"
      ],
      "metadata": {
        "id": "CL774C3kn7ax",
        "outputId": "9e5c5ee9-e7f5-47ea-99e7-b854dc404aac",
        "colab": {
          "base_uri": "https://localhost:8080/"
        }
      },
      "execution_count": null,
      "outputs": [
        {
          "output_type": "execute_result",
          "data": {
            "text/plain": [
              "OrderedDict([('linear.weight', tensor([[0.9008]], device='cuda:0')),\n",
              "             ('linear.bias', tensor([0.1001], device='cuda:0'))])"
            ]
          },
          "metadata": {},
          "execution_count": 34
        }
      ]
    }
  ]
}